{
 "cells": [
  {
   "cell_type": "markdown",
   "metadata": {},
   "source": [
    "### Student Information\n",
    "Name: Orison\n",
    "\n",
    "Student ID: 106065425\n",
    "\n",
    "Dataset Used: Sentiment Labelled Sentesces Data Set (URL:https://archive.ics.uci.edu/ml/datasets/Sentiment+Labelled+Sentences)"
   ]
  },
  {
   "cell_type": "markdown",
   "metadata": {},
   "source": [
    "### Instructions"
   ]
  },
  {
   "cell_type": "markdown",
   "metadata": {},
   "source": [
    "- Download the dataset provided in this [link](https://archive.ics.uci.edu/ml/datasets/Sentiment+Labelled+Sentences#). The sentiment dataset contains a `sentence` and `score` label. Read what the dataset is about on the link provided before you start exploring it. \n",
    "\n",
    "\n",
    "- Then, you are asked to apply each of the data exploration and data operation techniques learned in the [first lab session](https://goo.gl/Sg4FS1) on the new dataset. You don't need to explain all the procedures as we did in the notebook, but you are expected to provide some **minimal comments** explaining your code. You are also expected to use the same libraries used in the first lab session. You are allowed to use and modify the `helper` functions we provided in the first lab session or create your own. Also, be aware that the helper functions may need modification as you are dealing with a completely different dataset. This part is worth 80% of your grade!\n",
    "\n",
    "\n",
    "- After you have completed the operations, you should attempt the **bonus exercises** provided in the [notebook](https://goo.gl/Sg4FS1) we used for the first lab session. There are six (6) additional exercises; attempt them all, as it is part of your grade (10%). \n",
    "\n",
    "\n",
    "- You are also expected to tidy up your notebook and attempt new data operations that you have learned so far in the Data Mining course. Surprise us! This segment is worth 10% of your grade.\n",
    "\n",
    "\n",
    "- After completing all the above tasks, you are free to remove this header block and submit your assignment following the guide provided in the `README.md` file of the assignment's [repository](https://github.com/omarsar/data_mining_hw_1). "
   ]
  },
  {
   "cell_type": "markdown",
   "metadata": {},
   "source": [
    "# Dataset Information\n",
    "\n",
    "Sentiments Labelled\n",
    "\n",
    "This dataset was created for the paper 'From Group to Individual Labels using Deep Features'\n",
    "\n",
    "It uses a sentence score, either 1 or 0 to determine if the sentence is positive or negative, respectively. They were selected from three different websites. No neutral sentences were intended for selection.\n",
    "\n"
   ]
  },
  {
   "cell_type": "markdown",
   "metadata": {},
   "source": [
    "# 0. Importing Libraries"
   ]
  },
  {
   "cell_type": "code",
   "execution_count": 1,
   "metadata": {
    "collapsed": true
   },
   "outputs": [],
   "source": [
    "# necessary for when working with external scripts\n",
    "%load_ext autoreload\n",
    "%autoreload 2"
   ]
  },
  {
   "cell_type": "code",
   "execution_count": 18,
   "metadata": {},
   "outputs": [],
   "source": [
    "import pandas as pd\n",
    "import numpy as np\n",
    "import nltk\n",
    "\n",
    "\n",
    "from sklearn.datasets import fetch_20newsgroups\n",
    "from sklearn.datasets import load_files\n",
    "from sklearn.feature_extraction.text import CountVectorizer\n",
    "import plotly.plotly as py\n",
    "import plotly.graph_objs as go\n",
    "import math\n",
    "%matplotlib inline\n",
    "\n",
    "# my functions\n",
    "import helpers.data_mining_helpers as dmh\n",
    "import helpers.text_analysis as ta"
   ]
  },
  {
   "cell_type": "markdown",
   "metadata": {},
   "source": [
    "# 1. Preparing the Data"
   ]
  },
  {
   "cell_type": "markdown",
   "metadata": {},
   "source": [
    "First let's load some data and see if it works well."
   ]
  },
  {
   "cell_type": "code",
   "execution_count": 96,
   "metadata": {},
   "outputs": [],
   "source": [
    "imdb = pd.read_csv(\"imdb_labelled.txt\", header=1, sep='\\t',quoting=3, names = [\"Sentence\",\"Score\"])\n"
   ]
  },
  {
   "cell_type": "code",
   "execution_count": 97,
   "metadata": {},
   "outputs": [
    {
     "name": "stdout",
     "output_type": "stream",
     "text": [
      "                                              Sentence  Score\n",
      "0    Attempting artiness with black & white and cle...      0\n",
      "1         Very little music or anything to speak of.        0\n",
      "2    The best scene in the movie was when Gerardo i...      1\n",
      "3    The rest of the movie lacks art, charm, meanin...      0\n",
      "4                                  Wasted two hours.        0\n",
      "5    Saw the movie today and thought it was a good ...      1\n",
      "6                                 A bit predictable.        0\n",
      "7    Loved the casting of Jimmy Buffet as the scien...      1\n",
      "8                 And those baby owls were adorable.        1\n",
      "9    The movie showed a lot of Florida at it's best...      1\n",
      "10   The Songs Were The Best And The Muppets Were S...      1\n",
      "11                                   It Was So Cool.        1\n",
      "12   This is a very \"right on case\" movie that deli...      1\n",
      "13   It had some average acting from the main perso...      0\n",
      "14   This review is long overdue, since I consider ...      1\n",
      "15   I'll put this gem up against any movie in term...      1\n",
      "16   It's practically perfect in all of them  a tr...      1\n",
      "17   \" The structure of this film is easily the mos...      1\n",
      "18   I can think of no other film where something v...      1\n",
      "19   In other words, the content level of this film...      1\n",
      "20   How can anyone in their right mind ask for any...      1\n",
      "21   It's quite simply the highest, most superlativ...      1\n",
      "22   Yes, this film does require a rather significa...      1\n",
      "23       This short film certainly pulls no punches.        0\n",
      "24   Graphics is far from the best part of the game.        0\n",
      "25   This is the number one best TH game in the ser...      1\n",
      "26                          It deserves strong love.        1\n",
      "27                             It is an insane game.        1\n",
      "28   There are massive levels, massive unlockable c...      1\n",
      "29                    Waste your money on this game.        1\n",
      "..                                                 ...    ...\n",
      "968  Enough can not be said of the remarkable anima...      1\n",
      "969  The art style has the appearance of crayon/pen...      1\n",
      "970  If you act in such a film, you should be glad ...      0\n",
      "971  This one wants to surf on the small wave of sp...      0\n",
      "972  If you haven't choked in your own vomit by the...      0\n",
      "973  Still, it makes up for all of this with a supe...      1\n",
      "974  Just consider the excellent story, solid actin...      1\n",
      "975  Instead, we got a bore fest about a whiny, spo...      0\n",
      "976  Then I watched it again two Sundays ago (March...      1\n",
      "977       It is a very well acted and done TV Movie.        1\n",
      "978  Judith Light is one of my favorite actresses a...      1\n",
      "979                I keep watching it over and over.        1\n",
      "980                 It's a sad movie, but very good.        1\n",
      "981  If you have not seen this movie, I definitely ...      1\n",
      "982           She is as lovely as usual, this cutie!        1\n",
      "983  Still it's quite interesting and entertaining ...      1\n",
      "984                    ;) Recommend with confidence!        1\n",
      "985  This movie is well-balanced with comedy and dr...      1\n",
      "986  It was a riot to see Hugo Weaving play a sex-o...      1\n",
      "987  :) Anyway, the plot flowed smoothly and the ma...      1\n",
      "988  The opening sequence of this gem is a classic,...      1\n",
      "989             Fans of the genre will be in heaven.        1\n",
      "990                Lange had become a great actress.        1\n",
      "991                It looked like a wonderful story.        1\n",
      "992            I never walked out of a movie faster.        0\n",
      "993  I just got bored watching Jessice Lange take h...      0\n",
      "994  Unfortunately, any virtue in this film's produ...      0\n",
      "995                   In a word, it is embarrassing.        0\n",
      "996                               Exceptionally bad!        0\n",
      "997  All in all its an insult to one's intelligence...      0\n",
      "\n",
      "[998 rows x 2 columns]\n"
     ]
    }
   ],
   "source": [
    "print (imdb)"
   ]
  },
  {
   "cell_type": "code",
   "execution_count": 98,
   "metadata": {},
   "outputs": [
    {
     "data": {
      "text/plain": [
       "998"
      ]
     },
     "execution_count": 98,
     "metadata": {},
     "output_type": "execute_result"
    }
   ],
   "source": [
    "len(imdb)"
   ]
  },
  {
   "cell_type": "code",
   "execution_count": 99,
   "metadata": {},
   "outputs": [
    {
     "name": "stdout",
     "output_type": "stream",
     "text": [
      "(998, 2)\n"
     ]
    }
   ],
   "source": [
    "print(imdb.shape)"
   ]
  },
  {
   "cell_type": "code",
   "execution_count": 100,
   "metadata": {},
   "outputs": [
    {
     "data": {
      "text/html": [
       "<div>\n",
       "<style>\n",
       "    .dataframe thead tr:only-child th {\n",
       "        text-align: right;\n",
       "    }\n",
       "\n",
       "    .dataframe thead th {\n",
       "        text-align: left;\n",
       "    }\n",
       "\n",
       "    .dataframe tbody tr th {\n",
       "        vertical-align: top;\n",
       "    }\n",
       "</style>\n",
       "<table border=\"1\" class=\"dataframe\">\n",
       "  <thead>\n",
       "    <tr style=\"text-align: right;\">\n",
       "      <th></th>\n",
       "      <th>Sentence</th>\n",
       "      <th>Score</th>\n",
       "    </tr>\n",
       "  </thead>\n",
       "  <tbody>\n",
       "    <tr>\n",
       "      <th>0</th>\n",
       "      <td>Attempting artiness with black &amp; white and cle...</td>\n",
       "      <td>0</td>\n",
       "    </tr>\n",
       "    <tr>\n",
       "      <th>1</th>\n",
       "      <td>Very little music or anything to speak of.</td>\n",
       "      <td>0</td>\n",
       "    </tr>\n",
       "    <tr>\n",
       "      <th>2</th>\n",
       "      <td>The best scene in the movie was when Gerardo i...</td>\n",
       "      <td>1</td>\n",
       "    </tr>\n",
       "    <tr>\n",
       "      <th>3</th>\n",
       "      <td>The rest of the movie lacks art, charm, meanin...</td>\n",
       "      <td>0</td>\n",
       "    </tr>\n",
       "    <tr>\n",
       "      <th>4</th>\n",
       "      <td>Wasted two hours.</td>\n",
       "      <td>0</td>\n",
       "    </tr>\n",
       "    <tr>\n",
       "      <th>5</th>\n",
       "      <td>Saw the movie today and thought it was a good ...</td>\n",
       "      <td>1</td>\n",
       "    </tr>\n",
       "    <tr>\n",
       "      <th>6</th>\n",
       "      <td>A bit predictable.</td>\n",
       "      <td>0</td>\n",
       "    </tr>\n",
       "    <tr>\n",
       "      <th>7</th>\n",
       "      <td>Loved the casting of Jimmy Buffet as the scien...</td>\n",
       "      <td>1</td>\n",
       "    </tr>\n",
       "    <tr>\n",
       "      <th>8</th>\n",
       "      <td>And those baby owls were adorable.</td>\n",
       "      <td>1</td>\n",
       "    </tr>\n",
       "    <tr>\n",
       "      <th>9</th>\n",
       "      <td>The movie showed a lot of Florida at it's best...</td>\n",
       "      <td>1</td>\n",
       "    </tr>\n",
       "  </tbody>\n",
       "</table>\n",
       "</div>"
      ],
      "text/plain": [
       "                                            Sentence  Score\n",
       "0  Attempting artiness with black & white and cle...      0\n",
       "1       Very little music or anything to speak of.        0\n",
       "2  The best scene in the movie was when Gerardo i...      1\n",
       "3  The rest of the movie lacks art, charm, meanin...      0\n",
       "4                                Wasted two hours.        0\n",
       "5  Saw the movie today and thought it was a good ...      1\n",
       "6                               A bit predictable.        0\n",
       "7  Loved the casting of Jimmy Buffet as the scien...      1\n",
       "8               And those baby owls were adorable.        1\n",
       "9  The movie showed a lot of Florida at it's best...      1"
      ]
     },
     "execution_count": 100,
     "metadata": {},
     "output_type": "execute_result"
    }
   ],
   "source": [
    "imdb[0:10]"
   ]
  },
  {
   "cell_type": "code",
   "execution_count": 103,
   "metadata": {},
   "outputs": [
    {
     "data": {
      "text/html": [
       "<div>\n",
       "<style>\n",
       "    .dataframe thead tr:only-child th {\n",
       "        text-align: right;\n",
       "    }\n",
       "\n",
       "    .dataframe thead th {\n",
       "        text-align: left;\n",
       "    }\n",
       "\n",
       "    .dataframe tbody tr th {\n",
       "        vertical-align: top;\n",
       "    }\n",
       "</style>\n",
       "<table border=\"1\" class=\"dataframe\">\n",
       "  <thead>\n",
       "    <tr style=\"text-align: right;\">\n",
       "      <th></th>\n",
       "      <th>Sentence</th>\n",
       "      <th>Score</th>\n",
       "    </tr>\n",
       "  </thead>\n",
       "  <tbody>\n",
       "    <tr>\n",
       "      <th>0</th>\n",
       "      <td>Attempting artiness with black &amp; white and cle...</td>\n",
       "      <td>0</td>\n",
       "    </tr>\n",
       "    <tr>\n",
       "      <th>1</th>\n",
       "      <td>Very little music or anything to speak of.</td>\n",
       "      <td>0</td>\n",
       "    </tr>\n",
       "  </tbody>\n",
       "</table>\n",
       "</div>"
      ],
      "text/plain": [
       "                                            Sentence  Score\n",
       "0  Attempting artiness with black & white and cle...      0\n",
       "1       Very little music or anything to speak of.        0"
      ]
     },
     "execution_count": 103,
     "metadata": {},
     "output_type": "execute_result"
    }
   ],
   "source": [
    "imdb[0:2]"
   ]
  }
 ],
 "metadata": {
  "kernelspec": {
   "display_name": "Python 3",
   "language": "python",
   "name": "python3"
  },
  "language_info": {
   "codemirror_mode": {
    "name": "ipython",
    "version": 3
   },
   "file_extension": ".py",
   "mimetype": "text/x-python",
   "name": "python",
   "nbconvert_exporter": "python",
   "pygments_lexer": "ipython3",
   "version": "3.6.1"
  }
 },
 "nbformat": 4,
 "nbformat_minor": 2
}
