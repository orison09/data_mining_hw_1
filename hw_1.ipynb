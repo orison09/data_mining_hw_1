{
 "cells": [
  {
   "cell_type": "markdown",
   "metadata": {},
   "source": [
    "### Student Information\n",
    "Name: Orison\n",
    "\n",
    "Student ID: 106065425\n",
    "\n",
    "Dataset Used: Sentiment Labelled Sentesces Data Set (URL:https://archive.ics.uci.edu/ml/datasets/Sentiment+Labelled+Sentences)"
   ]
  },
  {
   "cell_type": "markdown",
   "metadata": {},
   "source": [
    "### Instructions"
   ]
  },
  {
   "cell_type": "markdown",
   "metadata": {},
   "source": [
    "- Download the dataset provided in this [link](https://archive.ics.uci.edu/ml/datasets/Sentiment+Labelled+Sentences#). The sentiment dataset contains a `sentence` and `score` label. Read what the dataset is about on the link provided before you start exploring it. \n",
    "\n",
    "\n",
    "- Then, you are asked to apply each of the data exploration and data operation techniques learned in the [first lab session](https://goo.gl/Sg4FS1) on the new dataset. You don't need to explain all the procedures as we did in the notebook, but you are expected to provide some **minimal comments** explaining your code. You are also expected to use the same libraries used in the first lab session. You are allowed to use and modify the `helper` functions we provided in the first lab session or create your own. Also, be aware that the helper functions may need modification as you are dealing with a completely different dataset. This part is worth 80% of your grade!\n",
    "\n",
    "\n",
    "- After you have completed the operations, you should attempt the **bonus exercises** provided in the [notebook](https://goo.gl/Sg4FS1) we used for the first lab session. There are six (6) additional exercises; attempt them all, as it is part of your grade (10%). \n",
    "\n",
    "\n",
    "- You are also expected to tidy up your notebook and attempt new data operations that you have learned so far in the Data Mining course. Surprise us! This segment is worth 10% of your grade.\n",
    "\n",
    "\n",
    "- After completing all the above tasks, you are free to remove this header block and submit your assignment following the guide provided in the `README.md` file of the assignment's [repository](https://github.com/omarsar/data_mining_hw_1). "
   ]
  },
  {
   "cell_type": "markdown",
   "metadata": {},
   "source": [
    "# Dataset Information\n",
    "\n",
    "Sentiments Labelled\n",
    "\n",
    "This dataset was created for the paper 'From Group to Individual Labels using Deep Features'\n",
    "\n",
    "It uses a sentence score, either 1 or 0 to determine if the sentence is positive or negative, respectively. They were selected from three different websites. No neutral sentences were intended for selection.\n",
    "\n"
   ]
  },
  {
   "cell_type": "markdown",
   "metadata": {},
   "source": [
    "# 0. Importing Libraries"
   ]
  },
  {
   "cell_type": "code",
   "execution_count": 1,
   "metadata": {
    "collapsed": true
   },
   "outputs": [],
   "source": [
    "# necessary for when working with external scripts\n",
    "%load_ext autoreload\n",
    "%autoreload 2"
   ]
  },
  {
   "cell_type": "code",
   "execution_count": 18,
   "metadata": {},
   "outputs": [],
   "source": [
    "import pandas as pd\n",
    "import numpy as np\n",
    "import nltk\n",
    "\n",
    "\n",
    "from sklearn.datasets import fetch_20newsgroups\n",
    "from sklearn.datasets import load_files\n",
    "from sklearn.feature_extraction.text import CountVectorizer\n",
    "import plotly.plotly as py\n",
    "import plotly.graph_objs as go\n",
    "import math\n",
    "%matplotlib inline\n",
    "\n",
    "# my functions\n",
    "import helpers.data_mining_helpers as dmh\n",
    "import helpers.text_analysis as ta"
   ]
  },
  {
   "cell_type": "markdown",
   "metadata": {},
   "source": [
    "# 1. Preparing the Data"
   ]
  },
  {
   "cell_type": "markdown",
   "metadata": {},
   "source": [
    "First let's load some data and see if it works well."
   ]
  },
  {
   "cell_type": "code",
   "execution_count": 57,
   "metadata": {},
   "outputs": [],
   "source": [
    "data = pd.read_csv(\"imdb_labelled.txt\", header=0, delimiter= \"\\t\", quoting=3)\n"
   ]
  },
  {
   "cell_type": "code",
   "execution_count": 63,
   "metadata": {},
   "outputs": [
    {
     "name": "stdout",
     "output_type": "stream",
     "text": [
      "    A very, very, very slow-moving, aimless movie about a distressed, drifting young man.    \\\n",
      "0    Not sure who was more lost - the flat characte...                                        \n",
      "1    Attempting artiness with black & white and cle...                                        \n",
      "2         Very little music or anything to speak of.                                          \n",
      "3    The best scene in the movie was when Gerardo i...                                        \n",
      "4    The rest of the movie lacks art, charm, meanin...                                        \n",
      "5                                  Wasted two hours.                                          \n",
      "6    Saw the movie today and thought it was a good ...                                        \n",
      "7                                 A bit predictable.                                          \n",
      "8    Loved the casting of Jimmy Buffet as the scien...                                        \n",
      "9                 And those baby owls were adorable.                                          \n",
      "10   The movie showed a lot of Florida at it's best...                                        \n",
      "11   The Songs Were The Best And The Muppets Were S...                                        \n",
      "12                                   It Was So Cool.                                          \n",
      "13   This is a very \"right on case\" movie that deli...                                        \n",
      "14   It had some average acting from the main perso...                                        \n",
      "15   This review is long overdue, since I consider ...                                        \n",
      "16   I'll put this gem up against any movie in term...                                        \n",
      "17   It's practically perfect in all of them  a tr...                                        \n",
      "18   \" The structure of this film is easily the mos...                                        \n",
      "19   I can think of no other film where something v...                                        \n",
      "20   In other words, the content level of this film...                                        \n",
      "21   How can anyone in their right mind ask for any...                                        \n",
      "22   It's quite simply the highest, most superlativ...                                        \n",
      "23   Yes, this film does require a rather significa...                                        \n",
      "24       This short film certainly pulls no punches.                                          \n",
      "25   Graphics is far from the best part of the game.                                          \n",
      "26   This is the number one best TH game in the ser...                                        \n",
      "27                          It deserves strong love.                                          \n",
      "28                             It is an insane game.                                          \n",
      "29   There are massive levels, massive unlockable c...                                        \n",
      "..                                                 ...                                        \n",
      "969  Enough can not be said of the remarkable anima...                                        \n",
      "970  The art style has the appearance of crayon/pen...                                        \n",
      "971  If you act in such a film, you should be glad ...                                        \n",
      "972  This one wants to surf on the small wave of sp...                                        \n",
      "973  If you haven't choked in your own vomit by the...                                        \n",
      "974  Still, it makes up for all of this with a supe...                                        \n",
      "975  Just consider the excellent story, solid actin...                                        \n",
      "976  Instead, we got a bore fest about a whiny, spo...                                        \n",
      "977  Then I watched it again two Sundays ago (March...                                        \n",
      "978       It is a very well acted and done TV Movie.                                          \n",
      "979  Judith Light is one of my favorite actresses a...                                        \n",
      "980                I keep watching it over and over.                                          \n",
      "981                 It's a sad movie, but very good.                                          \n",
      "982  If you have not seen this movie, I definitely ...                                        \n",
      "983           She is as lovely as usual, this cutie!                                          \n",
      "984  Still it's quite interesting and entertaining ...                                        \n",
      "985                    ;) Recommend with confidence!                                          \n",
      "986  This movie is well-balanced with comedy and dr...                                        \n",
      "987  It was a riot to see Hugo Weaving play a sex-o...                                        \n",
      "988  :) Anyway, the plot flowed smoothly and the ma...                                        \n",
      "989  The opening sequence of this gem is a classic,...                                        \n",
      "990             Fans of the genre will be in heaven.                                          \n",
      "991                Lange had become a great actress.                                          \n",
      "992                It looked like a wonderful story.                                          \n",
      "993            I never walked out of a movie faster.                                          \n",
      "994  I just got bored watching Jessice Lange take h...                                        \n",
      "995  Unfortunately, any virtue in this film's produ...                                        \n",
      "996                   In a word, it is embarrassing.                                          \n",
      "997                               Exceptionally bad!                                          \n",
      "998  All in all its an insult to one's intelligence...                                        \n",
      "\n",
      "     0  \n",
      "0    0  \n",
      "1    0  \n",
      "2    0  \n",
      "3    1  \n",
      "4    0  \n",
      "5    0  \n",
      "6    1  \n",
      "7    0  \n",
      "8    1  \n",
      "9    1  \n",
      "10   1  \n",
      "11   1  \n",
      "12   1  \n",
      "13   1  \n",
      "14   0  \n",
      "15   1  \n",
      "16   1  \n",
      "17   1  \n",
      "18   1  \n",
      "19   1  \n",
      "20   1  \n",
      "21   1  \n",
      "22   1  \n",
      "23   1  \n",
      "24   0  \n",
      "25   0  \n",
      "26   1  \n",
      "27   1  \n",
      "28   1  \n",
      "29   1  \n",
      "..  ..  \n",
      "969  1  \n",
      "970  1  \n",
      "971  0  \n",
      "972  0  \n",
      "973  0  \n",
      "974  1  \n",
      "975  1  \n",
      "976  0  \n",
      "977  1  \n",
      "978  1  \n",
      "979  1  \n",
      "980  1  \n",
      "981  1  \n",
      "982  1  \n",
      "983  1  \n",
      "984  1  \n",
      "985  1  \n",
      "986  1  \n",
      "987  1  \n",
      "988  1  \n",
      "989  1  \n",
      "990  1  \n",
      "991  1  \n",
      "992  1  \n",
      "993  0  \n",
      "994  0  \n",
      "995  0  \n",
      "996  0  \n",
      "997  0  \n",
      "998  0  \n",
      "\n",
      "[999 rows x 2 columns]\n"
     ]
    }
   ],
   "source": [
    "print (data)"
   ]
  }
 ],
 "metadata": {
  "kernelspec": {
   "display_name": "Python 3",
   "language": "python",
   "name": "python3"
  },
  "language_info": {
   "codemirror_mode": {
    "name": "ipython",
    "version": 3
   },
   "file_extension": ".py",
   "mimetype": "text/x-python",
   "name": "python",
   "nbconvert_exporter": "python",
   "pygments_lexer": "ipython3",
   "version": "3.6.1"
  }
 },
 "nbformat": 4,
 "nbformat_minor": 2
}
